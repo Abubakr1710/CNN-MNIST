{
 "cells": [
  {
   "cell_type": "code",
   "execution_count": 1,
   "metadata": {},
   "outputs": [
    {
     "data": {
      "text/plain": [
       "<torch._C.Generator at 0x1aaf0f97fd0>"
      ]
     },
     "execution_count": 1,
     "metadata": {},
     "output_type": "execute_result"
    }
   ],
   "source": [
    "#Importing needed packages\n",
    "import pandas as pd\n",
    "import numpy as np\n",
    "import matplotlib.pyplot as plt\n",
    "import torch\n",
    "import torch.nn as nn\n",
    "import torch.nn.functional as F\n",
    "from torchvision import datasets, transforms\n",
    "from torch.utils.data import DataLoader\n",
    "import torch.optim as optim\n",
    "import time\n",
    "\n",
    "torch.manual_seed(0)"
   ]
  },
  {
   "cell_type": "code",
   "execution_count": 2,
   "metadata": {},
   "outputs": [],
   "source": [
    "#Plotting function\n",
    "def view_classify(img, ps):\n",
    "\n",
    "    ps = ps.cpu().data.numpy().squeeze()\n",
    "    img= img.cpu().data.numpy()\n",
    "    fig, (ax1, ax2) = plt.subplots(figsize=(6,9), ncols=2)\n",
    "    ax1.imshow(img.reshape(1, 28, 28).squeeze())\n",
    "    ax1.axis('off')\n",
    "    ax2.barh(np.arange(10), ps)\n",
    "    ax2.set_aspect(0.1)\n",
    "    ax2.set_yticks(np.arange(10))\n",
    "    ax2.set_yticklabels(np.arange(10))\n",
    "    ax2.set_title('Class Probability')\n",
    "    ax2.set_xlim(0, 1.1)"
   ]
  },
  {
   "cell_type": "code",
   "execution_count": 3,
   "metadata": {},
   "outputs": [],
   "source": [
    "transform=transforms.Compose([transforms.ToTensor(), transforms.Normalize((0.5), (0.5))])\n",
    "\n",
    "trainset=datasets.MNIST('MNIST_data/', download=True, train=True, transform=transform)\n",
    "trainloader=DataLoader(trainset, batch_size=32, shuffle=True)\n",
    "\n",
    "testset=datasets.MNIST('MNIST_data/', download=True, train=False, transform=transform)\n",
    "testloader=DataLoader(testset, batch_size=32, shuffle=False)"
   ]
  },
  {
   "cell_type": "code",
   "execution_count": 4,
   "metadata": {},
   "outputs": [
    {
     "name": "stdout",
     "output_type": "stream",
     "text": [
      "torch.Size([32, 1, 28, 28])\n",
      "torch.Size([32])\n"
     ]
    }
   ],
   "source": [
    "dataiter=iter(trainloader)\n",
    "images, labels=dataiter.next()\n",
    "print(images.shape)\n",
    "print(labels.shape)"
   ]
  },
  {
   "cell_type": "code",
   "execution_count": 5,
   "metadata": {},
   "outputs": [
    {
     "data": {
      "image/png": "[encoded data removed]",
      "text/plain": [
       "<Figure size 432x288 with 1 Axes>"
      ]
     },
     "metadata": {
      "needs_background": "light"
     },
     "output_type": "display_data"
    }
   ],
   "source": [
    "plt.imshow(images[1].numpy().squeeze(), cmap='Greys_r');"
   ]
  },
  {
   "cell_type": "code",
   "execution_count": 6,
   "metadata": {},
   "outputs": [],
   "source": [
    "class Network(nn.Module):\n",
    "    def __init__(self):\n",
    "        super(Network, self).__init__()\n",
    "        self.conv1=nn.Conv2d(1, 32, 5)\n",
    "        self.pool=nn.MaxPool2d(2,2)\n",
    "        self.conv2=nn.Conv2d(32, 16, 5)\n",
    "        self.fc1=nn.Linear(16*4*4, 128)\n",
    "        self.fc2=nn.Linear(128, 64)\n",
    "        self.fc3=nn.Linear(64,10)\n",
    "\n",
    "    def forward(self, x):\n",
    "        #print(x.shape)\n",
    "        x=self.pool(F.relu(self.conv1(x)))\n",
    "        x=self.pool(F.relu(self.conv2(x)))\n",
    "        #print(x.shape)\n",
    "        x=x.view(x.shape[0], -1)\n",
    "        x=F.relu(self.fc1(x))\n",
    "        x=F.relu(self.fc2(x))\n",
    "        x=self.fc3(x)\n",
    "    \n",
    "        return x\n",
    "\n",
    "model=Network()"
   ]
  },
  {
   "cell_type": "code",
   "execution_count": 7,
   "metadata": {},
   "outputs": [
    {
     "name": "stdout",
     "output_type": "stream",
     "text": [
      "cuda\n"
     ]
    },
    {
     "data": {
      "text/plain": [
       "Network(\n",
       "  (conv1): Conv2d(1, 32, kernel_size=(5, 5), stride=(1, 1))\n",
       "  (pool): MaxPool2d(kernel_size=2, stride=2, padding=0, dilation=1, ceil_mode=False)\n",
       "  (conv2): Conv2d(32, 16, kernel_size=(5, 5), stride=(1, 1))\n",
       "  (fc1): Linear(in_features=256, out_features=128, bias=True)\n",
       "  (fc2): Linear(in_features=128, out_features=64, bias=True)\n",
       "  (fc3): Linear(in_features=64, out_features=10, bias=True)\n",
       ")"
      ]
     },
     "execution_count": 7,
     "metadata": {},
     "output_type": "execute_result"
    }
   ],
   "source": [
    "device='cuda' if torch.cuda.is_available() else 'cpu'\n",
    "print(device)\n",
    "model.to(device)"
   ]
  },
  {
   "cell_type": "code",
   "execution_count": 8,
   "metadata": {},
   "outputs": [
    {
     "name": "stdout",
     "output_type": "stream",
     "text": [
      "Epoch: 1/10\n",
      "Mean epoch loss for train: 2.2796752285003663\n",
      "Mean epoch loss for test: 2.296594770571675\n",
      "accuracy on epoch: 0.3741014376996805\n",
      "Epoch: 2/10\n",
      "Mean epoch loss for train: 2.128458684094747\n",
      "Mean epoch loss for test: 2.2362039325336296\n",
      "accuracy on epoch: 0.6669329073482428\n",
      "Epoch: 3/10\n",
      "Mean epoch loss for train: 1.153511409298579\n",
      "Mean epoch loss for test: 1.7989166186640437\n",
      "accuracy on epoch: 0.827276357827476\n",
      "Epoch: 4/10\n",
      "Mean epoch loss for train: 0.49069014588197074\n",
      "Mean epoch loss for test: 1.6569930688260843\n",
      "accuracy on epoch: 0.8912739616613419\n",
      "Epoch: 5/10\n",
      "Mean epoch loss for train: 0.3390720640738805\n",
      "Mean epoch loss for test: 1.6058979320069091\n",
      "accuracy on epoch: 0.9156349840255591\n",
      "Epoch: 6/10\n",
      "Mean epoch loss for train: 0.26799744477669396\n",
      "Mean epoch loss for test: 1.5753208905363236\n",
      "accuracy on epoch: 0.9325079872204473\n",
      "Epoch: 7/10\n",
      "Mean epoch loss for train: 0.22539858425656956\n",
      "Mean epoch loss for test: 1.5581521230002942\n",
      "accuracy on epoch: 0.9423921725239617\n",
      "Epoch: 8/10\n",
      "Mean epoch loss for train: 0.19655521013240018\n",
      "Mean epoch loss for test: 1.5458476303484494\n",
      "accuracy on epoch: 0.9493809904153354\n",
      "Epoch: 9/10\n",
      "Mean epoch loss for train: 0.17480135468592248\n",
      "Mean epoch loss for test: 1.5375749432621673\n",
      "accuracy on epoch: 0.9534744408945687\n",
      "Epoch: 10/10\n",
      "Mean epoch loss for train: 0.15900193211982647\n",
      "Mean epoch loss for test: 1.5303653969932287\n",
      "accuracy on epoch: 0.9584664536741214\n"
     ]
    },
    {
     "data": {
      "image/png": "[encoded data removed]",
      "text/plain": [
       "<Figure size 720x360 with 2 Axes>"
      ]
     },
     "metadata": {
      "needs_background": "light"
     },
     "output_type": "display_data"
    }
   ],
   "source": [
    "criterion=nn.CrossEntropyLoss()\n",
    "start_time=time.time()\n",
    "def torch_fit(trainloader, testloader, criterion, lr, num_epochs, model, device):\n",
    "    optimizer=optim.SGD(model.parameters(), lr)\n",
    "\n",
    "    train_losses=[]\n",
    "    test_losses=[]\n",
    "    accuracy=[]\n",
    "    norm_score=0.95\n",
    "    for epoch in range(num_epochs):\n",
    "        print(f'Epoch: {epoch+1}/{num_epochs}')\n",
    "\n",
    "        train_epoch_loss=[]\n",
    "        for i, (images, labels) in enumerate(iter(trainloader)):\n",
    "            images=images.to(device)\n",
    "            labels=labels.to(device)\n",
    "            optimizer.zero_grad()\n",
    "            pred=model.forward(images)\n",
    "            loss=criterion(pred, labels)\n",
    "            train_epoch_loss.append(loss.item())\n",
    "            loss.backward()\n",
    "            optimizer.step()\n",
    "\n",
    "        model.eval()\n",
    "        with torch.no_grad():\n",
    "            \n",
    "            test_epoch_list=[]\n",
    "            acc_on_epoch=[]\n",
    "            for j, (imagest, labelst) in enumerate(iter(testloader)):\n",
    "                imagest=imagest.to(device)\n",
    "                labelst=labelst.to(device)\n",
    "                preds=F.softmax(model(imagest), dim=1)\n",
    "                losst=criterion(preds, labelst)\n",
    "                test_epoch_list.append(losst.item())\n",
    "\n",
    "                acc_pred=preds.argmax(dim=1)\n",
    "                acc=(acc_pred == labelst).sum()/ len(labelst)\n",
    "                acc_on_epoch.append(acc.item())\n",
    "    \n",
    "        mean_acc=sum(acc_on_epoch)/len(acc_on_epoch)\n",
    "        accuracy.append(mean_acc)\n",
    "\n",
    "        test_loss_mean=sum(test_epoch_list)/len(test_epoch_list)\n",
    "        test_losses.append(test_loss_mean)\n",
    "\n",
    "        train_loss_mean=sum(train_epoch_loss)/len(train_epoch_loss)\n",
    "        train_losses.append(train_loss_mean)\n",
    "\n",
    "\n",
    "        if norm_score < mean_acc:\n",
    "            torch.save(model.state_dict(),'checkpoint.pth')\n",
    "            state_dict = torch.load('checkpoint.pth')\n",
    "            print(state_dict.keys())\n",
    "            print(model.load_state_dict(state_dict))\n",
    "            norm_score = mean_acc\n",
    "\n",
    "        model.train()\n",
    "   \n",
    "\n",
    "        print(f'Mean epoch loss for train: {train_loss_mean}')\n",
    "        print(f'Mean epoch loss for test: {test_loss_mean}')\n",
    "        print(f'accuracy on epoch: {mean_acc}')\n",
    "\n",
    "    final_time = time.time()- start_time\n",
    "    print(f'Training time took: {final_time}')\n",
    "\n",
    "    x_axis_acc=list(range(num_epochs))\n",
    "    plt.figure(figsize=(10,5))\n",
    "    plt.subplot(1,2,1)\n",
    "    plt.plot(train_losses, label='Train loss')\n",
    "    plt.plot(test_losses, label='Test loss')\n",
    "    \n",
    "    plt.subplot(1,2,2)\n",
    "    plt.plot(x_axis_acc,accuracy, label='accuracy')\n",
    "    plt.legend()\n",
    "    plt.show()\n",
    "\n",
    "ans=torch_fit(trainloader=trainloader, testloader=testloader,criterion=criterion, lr=0.001, num_epochs=10, model=model, device=device)\n",
    "    \n",
    "\n"
   ]
  },
  {
   "cell_type": "code",
   "execution_count": 9,
   "metadata": {},
   "outputs": [
    {
     "data": {
      "image/png": "[encoded data removed]",
      "text/plain": [
       "<Figure size 432x648 with 2 Axes>"
      ]
     },
     "metadata": {
      "needs_background": "light"
     },
     "output_type": "display_data"
    }
   ],
   "source": [
    "images, labels = next(iter(testloader))\n",
    "images=images.to(device)\n",
    "labels=labels.to(device)\n",
    "image=images[3]    \n",
    "#images.resize_(images.shape[0], 1, 784) \n",
    "logits = model.forward(image.view(1,1,28,28))\n",
    "ps = F.softmax(logits, dim=1)\n",
    "view_classify(image.view(1, 28, 28), ps)"
   ]
  }
 ],
 "metadata": {
  "interpreter": {
   "hash": "c783155fdf7cc6e25183d446515f6b6ba379df7b28dd698d21634d1b4d5e58fd"
  },
  "kernelspec": {
   "display_name": "Python 3.10.4 ('dl')",
   "language": "python",
   "name": "python3"
  },
  "language_info": {
   "codemirror_mode": {
    "name": "ipython",
    "version": 3
   },
   "file_extension": ".py",
   "mimetype": "text/x-python",
   "name": "python",
   "nbconvert_exporter": "python",
   "pygments_lexer": "ipython3",
   "version": "3.10.4"
  },
  "orig_nbformat": 4
 },
 "nbformat": 4,
 "nbformat_minor": 2
}
