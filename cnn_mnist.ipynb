{
 "cells": [
  {
   "cell_type": "code",
   "execution_count": 1,
   "metadata": {},
   "outputs": [
    {
     "data": {
      "text/plain": [
       "<torch._C.Generator at 0x262f06a8110>"
      ]
     },
     "execution_count": 1,
     "metadata": {},
     "output_type": "execute_result"
    }
   ],
   "source": [
    "#Importing needed packages\n",
    "import pandas as pd\n",
    "import numpy as np\n",
    "import matplotlib.pyplot as plt\n",
    "import torch\n",
    "import torch.nn as nn\n",
    "import torch.nn.functional as F\n",
    "from torchvision import datasets, transforms\n",
    "from torch.utils.data import DataLoader\n",
    "import torch.optim as optim\n",
    "import time\n",
    "\n",
    "torch.manual_seed(0)"
   ]
  },
  {
   "cell_type": "code",
   "execution_count": 2,
   "metadata": {},
   "outputs": [],
   "source": [
    "#Plotting function\n",
    "def view_classify(img, ps):\n",
    "\n",
    "    ps = ps.cpu().data.numpy().squeeze()\n",
    "    img= img.cpu().data.numpy()\n",
    "    fig, (ax1, ax2) = plt.subplots(figsize=(6,9), ncols=2)\n",
    "    ax1.imshow(img.reshape(1, 28, 28).squeeze())\n",
    "    ax1.axis('off')\n",
    "    ax2.barh(np.arange(10), ps)\n",
    "    ax2.set_aspect(0.1)\n",
    "    ax2.set_yticks(np.arange(10))\n",
    "    ax2.set_yticklabels(np.arange(10))\n",
    "    ax2.set_title('Class Probability')\n",
    "    ax2.set_xlim(0, 1.1)"
   ]
  },
  {
   "cell_type": "code",
   "execution_count": 3,
   "metadata": {},
   "outputs": [],
   "source": [
    "transform=transforms.Compose([transforms.ToTensor(), transforms.Normalize((0.5), (0.5))])\n",
    "\n",
    "trainset=datasets.MNIST('MNIST_data/', download=True, train=True, transform=transform)\n",
    "trainloader=DataLoader(trainset, batch_size=32, shuffle=True)\n",
    "\n",
    "testset=datasets.MNIST('MNIST_data/', download=True, train=False, transform=transform)\n",
    "testloader=DataLoader(testset, batch_size=32, shuffle=False)"
   ]
  },
  {
   "cell_type": "code",
   "execution_count": 4,
   "metadata": {},
   "outputs": [
    {
     "name": "stdout",
     "output_type": "stream",
     "text": [
      "torch.Size([32, 1, 28, 28])\n",
      "torch.Size([32])\n"
     ]
    }
   ],
   "source": [
    "dataiter=iter(trainloader)\n",
    "images, labels=dataiter.next()\n",
    "print(images.shape)\n",
    "print(labels.shape)"
   ]
  },
  {
   "cell_type": "code",
   "execution_count": 5,
   "metadata": {},
   "outputs": [
    {
     "data": {
      "image/png": "[encoded data removed]",
      "text/plain": [
       "<Figure size 432x288 with 1 Axes>"
      ]
     },
     "metadata": {
      "needs_background": "light"
     },
     "output_type": "display_data"
    }
   ],
   "source": [
    "plt.imshow(images[1].numpy().squeeze(), cmap='Greys_r');"
   ]
  },
  {
   "cell_type": "code",
   "execution_count": 6,
   "metadata": {},
   "outputs": [],
   "source": [
    "class Network(nn.Module):\n",
    "    def __init__(self):\n",
    "        super(Network, self).__init__()\n",
    "        self.conv1=nn.Conv2d(1, 32, 5, padding=1, stride=2)\n",
    "        self.pool=nn.MaxPool2d(2,2)\n",
    "\n",
    "        self.conv2=nn.Conv2d(32, 16, 5)\n",
    "        self.fc1=nn.Linear(16*1*1, 128)\n",
    "        self.fc2=nn.Linear(128, 64)\n",
    "        self.fc3=nn.Linear(64,10)\n",
    "\n",
    "    def forward(self, x):\n",
    "        #print(x.shape)\n",
    "        x=self.pool(F.relu(self.conv1(x)))\n",
    "        x=self.pool(F.relu(self.conv2(x)))\n",
    "        #print(x.shape)\n",
    "        x=x.view(x.shape[0], -1)\n",
    "        x=F.relu(self.fc1(x))\n",
    "        x=F.relu(self.fc2(x))\n",
    "        x=self.fc3(x)\n",
    "        #x=F.softmax(x, dim=1)\n",
    "        return x\n",
    "\n",
    "model=Network()"
   ]
  },
  {
   "cell_type": "code",
   "execution_count": 7,
   "metadata": {},
   "outputs": [
    {
     "name": "stdout",
     "output_type": "stream",
     "text": [
      "cuda\n"
     ]
    },
    {
     "data": {
      "text/plain": [
       "Network(\n",
       "  (conv1): Conv2d(1, 32, kernel_size=(5, 5), stride=(2, 2), padding=(1, 1))\n",
       "  (pool): MaxPool2d(kernel_size=2, stride=2, padding=0, dilation=1, ceil_mode=False)\n",
       "  (conv2): Conv2d(32, 16, kernel_size=(5, 5), stride=(1, 1))\n",
       "  (fc1): Linear(in_features=16, out_features=128, bias=True)\n",
       "  (fc2): Linear(in_features=128, out_features=64, bias=True)\n",
       "  (fc3): Linear(in_features=64, out_features=10, bias=True)\n",
       ")"
      ]
     },
     "execution_count": 7,
     "metadata": {},
     "output_type": "execute_result"
    }
   ],
   "source": [
    "device='cuda' if torch.cuda.is_available() else 'cpu'\n",
    "print(device)\n",
    "model.to(device)"
   ]
  },
  {
   "cell_type": "code",
   "execution_count": 8,
   "metadata": {},
   "outputs": [
    {
     "name": "stdout",
     "output_type": "stream",
     "text": [
      "Epoch: 1/20\n",
      "Mean epoch loss for train: 2.141864098485311\n",
      "Mean epoch loss for test: 2.0939245231616233\n",
      "accuracy on epoch: 0.6223043130990416\n",
      "Epoch: 2/20\n",
      "Mean epoch loss for train: 0.5389271832287311\n",
      "Mean epoch loss for test: 1.575828365243662\n",
      "accuracy on epoch: 0.9384984025559105\n",
      "Epoch: 3/20\n",
      "Mean epoch loss for train: 0.1887909521152576\n",
      "Mean epoch loss for test: 1.5276998890855442\n",
      "accuracy on epoch: 0.9604632587859425\n",
      "Epoch: 4/20\n",
      "Mean epoch loss for train: 0.1340141078280906\n",
      "Mean epoch loss for test: 1.5116886445127737\n",
      "accuracy on epoch: 0.9698482428115016\n",
      "Epoch: 5/20\n",
      "Mean epoch loss for train: 0.11025429216002425\n",
      "Mean epoch loss for test: 1.5099822884550491\n",
      "accuracy on epoch: 0.9698482428115016\n",
      "Epoch: 6/20\n",
      "odict_keys(['conv1.weight', 'conv1.bias', 'conv2.weight', 'conv2.bias', 'fc1.weight', 'fc1.bias', 'fc2.weight', 'fc2.bias', 'fc3.weight', 'fc3.bias'])\n",
      "Mean epoch loss for train: 0.09419606625499825\n",
      "Mean epoch loss for test: 1.5008851251663111\n",
      "accuracy on epoch: 0.9760383386581469\n",
      "Epoch: 7/20\n",
      "odict_keys(['conv1.weight', 'conv1.bias', 'conv2.weight', 'conv2.bias', 'fc1.weight', 'fc1.bias', 'fc2.weight', 'fc2.bias', 'fc3.weight', 'fc3.bias'])\n",
      "Mean epoch loss for train: 0.084288660458227\n",
      "Mean epoch loss for test: 1.49848726610787\n",
      "accuracy on epoch: 0.9768370607028753\n",
      "Epoch: 8/20\n",
      "odict_keys(['conv1.weight', 'conv1.bias', 'conv2.weight', 'conv2.bias', 'fc1.weight', 'fc1.bias', 'fc2.weight', 'fc2.bias', 'fc3.weight', 'fc3.bias'])\n",
      "Mean epoch loss for train: 0.07556197003386915\n",
      "Mean epoch loss for test: 1.4945917175219843\n",
      "accuracy on epoch: 0.9772364217252396\n",
      "Epoch: 9/20\n",
      "odict_keys(['conv1.weight', 'conv1.bias', 'conv2.weight', 'conv2.bias', 'fc1.weight', 'fc1.bias', 'fc2.weight', 'fc2.bias', 'fc3.weight', 'fc3.bias'])\n",
      "Mean epoch loss for train: 0.06923912600986659\n",
      "Mean epoch loss for test: 1.4913504595954579\n",
      "accuracy on epoch: 0.9799321086261981\n",
      "Epoch: 10/20\n",
      "odict_keys(['conv1.weight', 'conv1.bias', 'conv2.weight', 'conv2.bias', 'fc1.weight', 'fc1.bias', 'fc2.weight', 'fc2.bias', 'fc3.weight', 'fc3.bias'])\n",
      "Mean epoch loss for train: 0.06430647584783535\n",
      "Mean epoch loss for test: 1.4907504301101635\n",
      "accuracy on epoch: 0.9804313099041534\n",
      "Epoch: 11/20\n",
      "odict_keys(['conv1.weight', 'conv1.bias', 'conv2.weight', 'conv2.bias', 'fc1.weight', 'fc1.bias', 'fc2.weight', 'fc2.bias', 'fc3.weight', 'fc3.bias'])\n",
      "Mean epoch loss for train: 0.0591338623844708\n",
      "Mean epoch loss for test: 1.4908223609193065\n",
      "accuracy on epoch: 0.9810303514376997\n",
      "Epoch: 12/20\n",
      "Mean epoch loss for train: 0.0565323579029801\n",
      "Mean epoch loss for test: 1.4892625465941505\n",
      "accuracy on epoch: 0.9806309904153354\n",
      "Epoch: 13/20\n",
      "odict_keys(['conv1.weight', 'conv1.bias', 'conv2.weight', 'conv2.bias', 'fc1.weight', 'fc1.bias', 'fc2.weight', 'fc2.bias', 'fc3.weight', 'fc3.bias'])\n",
      "Mean epoch loss for train: 0.05338001285853485\n",
      "Mean epoch loss for test: 1.4871559097363165\n",
      "accuracy on epoch: 0.9819289137380192\n",
      "Epoch: 14/20\n",
      "Mean epoch loss for train: 0.050344889647855114\n",
      "Mean epoch loss for test: 1.4911257775065998\n",
      "accuracy on epoch: 0.9785343450479234\n",
      "Epoch: 15/20\n",
      "Mean epoch loss for train: 0.04732984320018441\n",
      "Mean epoch loss for test: 1.4881358816981696\n",
      "accuracy on epoch: 0.9814297124600639\n",
      "Epoch: 16/20\n",
      "odict_keys(['conv1.weight', 'conv1.bias', 'conv2.weight', 'conv2.bias', 'fc1.weight', 'fc1.bias', 'fc2.weight', 'fc2.bias', 'fc3.weight', 'fc3.bias'])\n",
      "Mean epoch loss for train: 0.04582401481044168\n",
      "Mean epoch loss for test: 1.4855113040905792\n",
      "accuracy on epoch: 0.9832268370607029\n",
      "Epoch: 17/20\n",
      "odict_keys(['conv1.weight', 'conv1.bias', 'conv2.weight', 'conv2.bias', 'fc1.weight', 'fc1.bias', 'fc2.weight', 'fc2.bias', 'fc3.weight', 'fc3.bias'])\n",
      "Mean epoch loss for train: 0.04315079756152505\n",
      "Mean epoch loss for test: 1.4837888684897378\n",
      "accuracy on epoch: 0.9840255591054313\n",
      "Epoch: 18/20\n",
      "Mean epoch loss for train: 0.04145339332219834\n",
      "Mean epoch loss for test: 1.48561990375336\n",
      "accuracy on epoch: 0.9830271565495208\n",
      "Epoch: 19/20\n",
      "Mean epoch loss for train: 0.03971764465446274\n",
      "Mean epoch loss for test: 1.4897944352116448\n",
      "accuracy on epoch: 0.9802316293929713\n",
      "Epoch: 20/20\n",
      "odict_keys(['conv1.weight', 'conv1.bias', 'conv2.weight', 'conv2.bias', 'fc1.weight', 'fc1.bias', 'fc2.weight', 'fc2.bias', 'fc3.weight', 'fc3.bias'])\n",
      "Mean epoch loss for train: 0.03810262938706825\n",
      "Mean epoch loss for test: 1.4825355164920941\n",
      "accuracy on epoch: 0.9844249201277955\n",
      "Training time took: 457.873028755188\n"
     ]
    },
    {
     "data": {
      "image/png": "[encoded data removed]",
      "text/plain": [
       "<Figure size 720x360 with 2 Axes>"
      ]
     },
     "metadata": {
      "needs_background": "light"
     },
     "output_type": "display_data"
    }
   ],
   "source": [
    "criterion=nn.CrossEntropyLoss()\n",
    "start_time=time.time()\n",
    "def torch_fit(trainloader, testloader, criterion, lr, num_epochs, model, device):\n",
    "    optimizer=optim.SGD(model.parameters(), lr)\n",
    "\n",
    "    train_losses=[]\n",
    "    test_losses=[]\n",
    "    accuracy=[]\n",
    "    norm_score=0.97\n",
    "    for epoch in range(num_epochs):\n",
    "        print(f'Epoch: {epoch+1}/{num_epochs}')\n",
    "\n",
    "        train_epoch_loss=[]\n",
    "        for i, (images, labels) in enumerate(iter(trainloader)):\n",
    "            images=images.to(device)\n",
    "            labels=labels.to(device)\n",
    "            optimizer.zero_grad()\n",
    "            pred=model.forward(images)\n",
    "            loss=criterion(pred, labels)\n",
    "            train_epoch_loss.append(loss.item())\n",
    "            loss.backward()\n",
    "            optimizer.step()\n",
    "\n",
    "        model.eval()\n",
    "        with torch.no_grad():\n",
    "            \n",
    "            test_epoch_list=[]\n",
    "            acc_on_epoch=[]\n",
    "            for j, (imagest, labelst) in enumerate(iter(testloader)):\n",
    "                imagest=imagest.to(device)\n",
    "                labelst=labelst.to(device)\n",
    "                preds=F.softmax(model(imagest), dim=1)\n",
    "                losst=criterion(preds, labelst)\n",
    "                test_epoch_list.append(losst.item())\n",
    "\n",
    "                acc_pred=preds.argmax(dim=1)\n",
    "                acc=(acc_pred == labelst).sum()/ len(labelst)\n",
    "                acc_on_epoch.append(acc.item())\n",
    "    \n",
    "        mean_acc=sum(acc_on_epoch)/len(acc_on_epoch)\n",
    "        accuracy.append(mean_acc)\n",
    "\n",
    "        test_loss_mean=sum(test_epoch_list)/len(test_epoch_list)\n",
    "        test_losses.append(test_loss_mean)\n",
    "\n",
    "        train_loss_mean=sum(train_epoch_loss)/len(train_epoch_loss)\n",
    "        train_losses.append(train_loss_mean)\n",
    "\n",
    "\n",
    "        if norm_score < mean_acc:#0.98\n",
    "            torch.save(model.state_dict(),'checkpoint.pth')\n",
    "            state_dict = torch.load('checkpoint.pth')\n",
    "            print(state_dict.keys())\n",
    "            norm_score = mean_acc\n",
    "\n",
    "        model.train()\n",
    "   \n",
    "\n",
    "        print(f'Mean epoch loss for train: {train_loss_mean}')\n",
    "        print(f'Mean epoch loss for test: {test_loss_mean}')\n",
    "        print(f'accuracy on epoch: {mean_acc}')\n",
    "\n",
    "    final_time = time.time()- start_time\n",
    "    print(f'Training time took: {final_time}')\n",
    "\n",
    "    x_axis_acc=list(range(num_epochs))\n",
    "    plt.figure(figsize=(10,5))\n",
    "    plt.subplot(1,2,1)\n",
    "    plt.plot(train_losses, label='Train loss')\n",
    "    plt.plot(test_losses, label='Test loss')\n",
    "    plt.legend()\n",
    "    \n",
    "    plt.subplot(1,2,2)\n",
    "    plt.plot(x_axis_acc,accuracy, label='accuracy')\n",
    "    plt.legend()\n",
    "    plt.show()\n",
    "\n",
    "ans=torch_fit(trainloader=trainloader, testloader=testloader,criterion=criterion, lr=0.005, num_epochs=20, model=model, device=device)"
   ]
  },
  {
   "cell_type": "code",
   "execution_count": 10,
   "metadata": {},
   "outputs": [
    {
     "name": "stdout",
     "output_type": "stream",
     "text": [
      "<All keys matched successfully>\n"
     ]
    }
   ],
   "source": [
    "state_dict=torch.load('checkpoint.pth')\n",
    "model.load_state_dict(state_dict)\n",
    "print(model.load_state_dict(state_dict))"
   ]
  },
  {
   "cell_type": "code",
   "execution_count": 31,
   "metadata": {},
   "outputs": [
    {
     "data": {
      "image/png": "[encoded data removed]",
      "text/plain": [
       "<Figure size 432x648 with 2 Axes>"
      ]
     },
     "metadata": {
      "needs_background": "light"
     },
     "output_type": "display_data"
    }
   ],
   "source": [
    "counter=0\n",
    "while counter<1:\n",
    "    index=np.random.randint(0,32)\n",
    "    images, labels = next(iter(testloader))\n",
    "    images=images.to(device)\n",
    "    labels=labels.to(device)\n",
    "    image=images[index]    \n",
    "    logits = model.forward(image.view(1,1,28,28))\n",
    "    ps = F.softmax(logits, dim=1)\n",
    "    view_classify(image.view(1, 28, 28), ps)\n",
    "    plt.show()\n",
    "    time.sleep(1)\n",
    "    counter+=1"
   ]
  }
 ],
 "metadata": {
  "interpreter": {
   "hash": "c783155fdf7cc6e25183d446515f6b6ba379df7b28dd698d21634d1b4d5e58fd"
  },
  "kernelspec": {
   "display_name": "Python 3.10.4 ('dl')",
   "language": "python",
   "name": "python3"
  },
  "language_info": {
   "codemirror_mode": {
    "name": "ipython",
    "version": 3
   },
   "file_extension": ".py",
   "mimetype": "text/x-python",
   "name": "python",
   "nbconvert_exporter": "python",
   "pygments_lexer": "ipython3",
   "version": "3.10.4"
  },
  "orig_nbformat": 4
 },
 "nbformat": 4,
 "nbformat_minor": 2
}
