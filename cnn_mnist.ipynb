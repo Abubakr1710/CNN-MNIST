{
 "cells": [
  {
   "cell_type": "code",
   "execution_count": 49,
   "metadata": {},
   "outputs": [],
   "source": [
    "#Importing needed packages\n",
    "import pandas as pd\n",
    "import numpy as np\n",
    "import matplotlib.pyplot as plt\n",
    "import torch\n",
    "import torch.nn as nn\n",
    "import torch.nn.functional as F\n",
    "from torchvision import datasets, transforms\n",
    "from torch.utils.data import DataLoader\n",
    "import torch.optim as optim\n",
    "import time\n",
    "start_time=time.time()"
   ]
  },
  {
   "cell_type": "code",
   "execution_count": 50,
   "metadata": {},
   "outputs": [],
   "source": [
    "#Plotting function\n",
    "def view_classify(img, ps):\n",
    "\n",
    "    ps = ps.data.numpy().squeeze()\n",
    "\n",
    "    fig, (ax1, ax2) = plt.subplots(figsize=(6,9), ncols=2)\n",
    "    ax1.imshow(img.resize_(1, 28, 28).numpy().squeeze())\n",
    "    ax1.axis('off')\n",
    "    ax2.barh(np.arange(10), ps)\n",
    "    ax2.set_aspect(0.1)\n",
    "    ax2.set_yticks(np.arange(10))\n",
    "    ax2.set_yticklabels(np.arange(10))\n",
    "    ax2.set_title('Class Probability')\n",
    "    ax2.set_xlim(0, 1.1)"
   ]
  },
  {
   "cell_type": "code",
   "execution_count": 51,
   "metadata": {},
   "outputs": [],
   "source": [
    "transform=transforms.Compose([transforms.ToTensor(), transforms.Normalize((0.5), (0.5))])\n",
    "\n",
    "trainset=datasets.MNIST('MNIST_data/', download=True, train=True, transform=transform)\n",
    "trainloader=DataLoader(trainset, batch_size=32, shuffle=True)\n",
    "\n",
    "testset=datasets.MNIST('MNIST_data/', download=True, train=False, transform=transform)\n",
    "testloader=DataLoader(testset, batch_size=32, shuffle=False)"
   ]
  },
  {
   "cell_type": "code",
   "execution_count": 52,
   "metadata": {},
   "outputs": [
    {
     "name": "stdout",
     "output_type": "stream",
     "text": [
      "torch.Size([32, 1, 28, 28])\n",
      "torch.Size([32])\n"
     ]
    }
   ],
   "source": [
    "dataiter=iter(trainloader)\n",
    "images, labels=dataiter.next()\n",
    "print(images.shape)\n",
    "print(labels.shape)"
   ]
  },
  {
   "cell_type": "code",
   "execution_count": 53,
   "metadata": {},
   "outputs": [
    {
     "data": {
      "image/png": "[encoded data removed]",
      "text/plain": [
       "<Figure size 432x288 with 1 Axes>"
      ]
     },
     "metadata": {
      "needs_background": "light"
     },
     "output_type": "display_data"
    }
   ],
   "source": [
    "plt.imshow(images[1].numpy().squeeze(), cmap='Greys_r');"
   ]
  },
  {
   "cell_type": "code",
   "execution_count": 54,
   "metadata": {},
   "outputs": [],
   "source": [
    "class Network(nn.Module):\n",
    "    def __init__(self):\n",
    "        super(Network, self).__init__()\n",
    "        self.conv1=nn.Conv2d(1, 32, 5)\n",
    "        self.pool=nn.MaxPool2d(2,2)\n",
    "        self.conv2=nn.Conv2d(32, 16, 5)\n",
    "        self.fc1=nn.Linear(16*4*4, 128)\n",
    "        self.fc2=nn.Linear(128, 64)\n",
    "        self.fc3=nn.Linear(64,10)\n",
    "\n",
    "    def forward(self, x):\n",
    "        #print(x.shape)\n",
    "        x=self.pool(F.relu(self.conv1(x)))\n",
    "        x=self.pool(F.relu(self.conv2(x)))\n",
    "        #print(x.shape)\n",
    "        x=x.view(x.shape[0], -1)\n",
    "        x=F.relu(self.fc1(x))\n",
    "        x=F.relu(self.fc2(x))\n",
    "        x=self.fc3(x)\n",
    "        x=F.softmax(x, dim=1)\n",
    "        return x\n",
    "\n",
    "model=Network()"
   ]
  },
  {
   "cell_type": "code",
   "execution_count": null,
   "metadata": {},
   "outputs": [],
   "source": []
  },
  {
   "cell_type": "code",
   "execution_count": 55,
   "metadata": {},
   "outputs": [
    {
     "name": "stdout",
     "output_type": "stream",
     "text": [
      "cuda\n"
     ]
    },
    {
     "data": {
      "text/plain": [
       "Network(\n",
       "  (conv1): Conv2d(1, 32, kernel_size=(5, 5), stride=(1, 1))\n",
       "  (pool): MaxPool2d(kernel_size=2, stride=2, padding=0, dilation=1, ceil_mode=False)\n",
       "  (conv2): Conv2d(32, 16, kernel_size=(5, 5), stride=(1, 1))\n",
       "  (fc1): Linear(in_features=256, out_features=128, bias=True)\n",
       "  (fc2): Linear(in_features=128, out_features=64, bias=True)\n",
       "  (fc3): Linear(in_features=64, out_features=10, bias=True)\n",
       ")"
      ]
     },
     "execution_count": 55,
     "metadata": {},
     "output_type": "execute_result"
    }
   ],
   "source": [
    "device='cuda' if torch.cuda.is_available() else 'cpu'\n",
    "print(device)\n",
    "model.to(device)"
   ]
  },
  {
   "cell_type": "code",
   "execution_count": 57,
   "metadata": {},
   "outputs": [
    {
     "name": "stdout",
     "output_type": "stream",
     "text": [
      "Epoch: 1/20\n",
      "Mean epoch loss for train: 1.4819611245473225\n",
      "Mean epoch loss for test: 2.1744984955833364\n",
      "accuracy on epoch: 0.9804313099041534\n",
      "Epoch: 2/20\n",
      "Mean epoch loss for train: 1.4813487391789755\n",
      "Mean epoch loss for test: 2.174442754385951\n",
      "accuracy on epoch: 0.9807308306709265\n",
      "Epoch: 3/20\n",
      "Mean epoch loss for train: 1.480992239189148\n",
      "Mean epoch loss for test: 2.174425176919078\n",
      "accuracy on epoch: 0.9809305111821086\n",
      "Epoch: 4/20\n",
      "Mean epoch loss for train: 1.480829718208313\n",
      "Mean epoch loss for test: 2.1743645759436268\n",
      "accuracy on epoch: 0.9813298722044729\n",
      "Epoch: 5/20\n",
      "Mean epoch loss for train: 1.4804029920578003\n",
      "Mean epoch loss for test: 2.17434606993922\n",
      "accuracy on epoch: 0.9814297124600639\n",
      "Epoch: 6/20\n",
      "Mean epoch loss for train: 1.48022952931722\n",
      "Mean epoch loss for test: 2.1743164908009978\n",
      "accuracy on epoch: 0.981629392971246\n",
      "Epoch: 7/20\n",
      "Mean epoch loss for train: 1.4796148387273154\n",
      "Mean epoch loss for test: 2.174281376238448\n",
      "accuracy on epoch: 0.9818290734824281\n",
      "Epoch: 8/20\n",
      "Mean epoch loss for train: 1.478740264193217\n",
      "Mean epoch loss for test: 2.17415682728679\n",
      "accuracy on epoch: 0.9827276357827476\n",
      "Epoch: 9/20\n",
      "Mean epoch loss for train: 1.4783306711832682\n",
      "Mean epoch loss for test: 2.1741270333433302\n",
      "accuracy on epoch: 0.9829273162939297\n",
      "Epoch: 10/20\n",
      "Mean epoch loss for train: 1.4781340469996134\n",
      "Mean epoch loss for test: 2.1741265656468207\n",
      "accuracy on epoch: 0.9829273162939297\n",
      "Epoch: 11/20\n",
      "Mean epoch loss for train: 1.4781371899922688\n",
      "Mean epoch loss for test: 2.1741405211317653\n",
      "accuracy on epoch: 0.9828274760383386\n",
      "Epoch: 12/20\n",
      "Mean epoch loss for train: 1.478159367688497\n",
      "Mean epoch loss for test: 2.1741400519118144\n",
      "accuracy on epoch: 0.9828274760383386\n",
      "Epoch: 13/20\n",
      "Mean epoch loss for train: 1.4780633761723836\n",
      "Mean epoch loss for test: 2.1741166008166233\n",
      "accuracy on epoch: 0.9830271565495208\n",
      "Epoch: 14/20\n",
      "Mean epoch loss for train: 1.4779995376586914\n",
      "Mean epoch loss for test: 2.1740877933014695\n",
      "accuracy on epoch: 0.9832268370607029\n",
      "Epoch: 15/20\n",
      "Mean epoch loss for train: 1.4779992393493653\n",
      "Mean epoch loss for test: 2.1740526795006407\n",
      "accuracy on epoch: 0.983426517571885\n",
      "Epoch: 16/20\n",
      "Mean epoch loss for train: 1.4777202271779377\n",
      "Mean epoch loss for test: 2.1740525431526354\n",
      "accuracy on epoch: 0.983426517571885\n",
      "Epoch: 17/20\n",
      "Mean epoch loss for train: 1.4776415253957114\n",
      "Mean epoch loss for test: 2.174052559910491\n",
      "accuracy on epoch: 0.983426517571885\n",
      "Epoch: 18/20\n",
      "Mean epoch loss for train: 1.4775329600652058\n",
      "Mean epoch loss for test: 2.1740523496755775\n",
      "accuracy on epoch: 0.983426517571885\n",
      "Epoch: 19/20\n",
      "Mean epoch loss for train: 1.4773328495661417\n",
      "Mean epoch loss for test: 2.174023936731747\n",
      "accuracy on epoch: 0.9836261980830671\n",
      "Epoch: 20/20\n",
      "Mean epoch loss for train: 1.477330556933085\n",
      "Mean epoch loss for test: 2.1740097108359535\n",
      "accuracy on epoch: 0.9837260383386581\n"
     ]
    },
    {
     "data": {
      "image/png": "[encoded data removed]",
      "text/plain": [
       "<Figure size 720x360 with 2 Axes>"
      ]
     },
     "metadata": {
      "needs_background": "light"
     },
     "output_type": "display_data"
    }
   ],
   "source": [
    "criterion=nn.CrossEntropyLoss()\n",
    "def torch_fit(trainloader, testloader, criterion, lr, num_epochs, model, device):\n",
    "    optimizer=optim.SGD(model.parameters(), lr)\n",
    "\n",
    "    train_losses=[]\n",
    "    test_losses=[]\n",
    "    accuracy=[]\n",
    "    for epoch in range(num_epochs):\n",
    "        print(f'Epoch: {epoch+1}/{num_epochs}')\n",
    "\n",
    "        train_epoch_loss=[]\n",
    "        for i, (images, labels) in enumerate(iter(trainloader)):\n",
    "            images=images.to(device)\n",
    "            labels=labels.to(device)\n",
    "            optimizer.zero_grad()\n",
    "            pred=model.forward(images)\n",
    "            loss=criterion(pred, labels)\n",
    "            train_epoch_loss.append(loss.item())\n",
    "            loss.backward()\n",
    "            optimizer.step()\n",
    "\n",
    "        model.eval()\n",
    "        with torch.no_grad():\n",
    "            \n",
    "            test_epoch_list=[]\n",
    "            acc_on_epoch=[]\n",
    "            for j, (imagest, labelst) in enumerate(iter(testloader)):\n",
    "                imagest=imagest.to(device)\n",
    "                labelst=labelst.to(device)\n",
    "                preds=F.softmax(model(imagest), dim=1)\n",
    "                losst=criterion(preds, labelst)\n",
    "                test_epoch_list.append(losst.item())\n",
    "\n",
    "                acc_pred=preds.argmax(dim=1)\n",
    "                acc=(acc_pred == labelst).sum()/ len(labelst)\n",
    "                acc_on_epoch.append(acc.item())\n",
    "    \n",
    "        mean_acc=sum(acc_on_epoch)/len(acc_on_epoch)\n",
    "        accuracy.append(mean_acc)\n",
    "\n",
    "        test_loss_mean=sum(test_epoch_list)/len(test_epoch_list)\n",
    "        test_losses.append(test_loss_mean)\n",
    "\n",
    "        train_loss_mean=sum(train_epoch_loss)/len(train_epoch_loss)\n",
    "        train_losses.append(train_loss_mean)\n",
    "\n",
    "        print(f'Mean epoch loss for train: {train_loss_mean}')\n",
    "        print(f'Mean epoch loss for test: {test_loss_mean}')\n",
    "        print(f'accuracy on epoch: {mean_acc}')\n",
    "\n",
    "\n",
    "    x_axis_acc=list(range(num_epochs))\n",
    "    plt.figure(figsize=(10,5))\n",
    "    plt.subplot(1,2,1)\n",
    "    plt.plot(train_losses, label='Train loss')\n",
    "    plt.plot(test_losses, label='Test loss')\n",
    "    \n",
    "    plt.subplot(1,2,2)\n",
    "    plt.plot(x_axis_acc,accuracy, label='accuracy')\n",
    "    plt.legend()\n",
    "    plt.show()\n",
    "\n",
    "ans=torch_fit(trainloader=trainloader, testloader=testloader,criterion=criterion, lr=0.001, num_epochs=20, model=model, device=device)\n",
    "    \n",
    "\n"
   ]
  },
  {
   "cell_type": "code",
   "execution_count": 61,
   "metadata": {},
   "outputs": [
    {
     "ename": "RuntimeError",
     "evalue": "Expected 3D (unbatched) or 4D (batched) input to conv2d, but got input of size: [1, 784]",
     "output_type": "error",
     "traceback": [
      "\u001b[1;31m---------------------------------------------------------------------------\u001b[0m",
      "\u001b[1;31mRuntimeError\u001b[0m                              Traceback (most recent call last)",
      "\u001b[1;32mc:\\Users\\Abubakr\\Documents\\GitHub\\CNN-MNIST\\cnn_mnist.ipynb Cell 10'\u001b[0m in \u001b[0;36m<cell line: 5>\u001b[1;34m()\u001b[0m\n\u001b[0;32m      <a href='vscode-notebook-cell:/c%3A/Users/Abubakr/Documents/GitHub/CNN-MNIST/cnn_mnist.ipynb#ch0000009?line=2'>3</a>\u001b[0m labels\u001b[39m=\u001b[39mlabels\u001b[39m.\u001b[39mto(device)\n\u001b[0;32m      <a href='vscode-notebook-cell:/c%3A/Users/Abubakr/Documents/GitHub/CNN-MNIST/cnn_mnist.ipynb#ch0000009?line=3'>4</a>\u001b[0m images\u001b[39m.\u001b[39mresize_(images\u001b[39m.\u001b[39mshape[\u001b[39m0\u001b[39m], \u001b[39m1\u001b[39m, \u001b[39m784\u001b[39m)\n\u001b[1;32m----> <a href='vscode-notebook-cell:/c%3A/Users/Abubakr/Documents/GitHub/CNN-MNIST/cnn_mnist.ipynb#ch0000009?line=4'>5</a>\u001b[0m logits \u001b[39m=\u001b[39m model\u001b[39m.\u001b[39;49mforward(images[\u001b[39m0\u001b[39;49m,:])\n\u001b[0;32m      <a href='vscode-notebook-cell:/c%3A/Users/Abubakr/Documents/GitHub/CNN-MNIST/cnn_mnist.ipynb#ch0000009?line=5'>6</a>\u001b[0m ps \u001b[39m=\u001b[39m F\u001b[39m.\u001b[39msoftmax(logits, dim\u001b[39m=\u001b[39m\u001b[39m1\u001b[39m)\n\u001b[0;32m      <a href='vscode-notebook-cell:/c%3A/Users/Abubakr/Documents/GitHub/CNN-MNIST/cnn_mnist.ipynb#ch0000009?line=6'>7</a>\u001b[0m view_classify(images[\u001b[39m0\u001b[39m]\u001b[39m.\u001b[39mview(\u001b[39m1\u001b[39m, \u001b[39m28\u001b[39m, \u001b[39m28\u001b[39m), ps)\n",
      "\u001b[1;32mc:\\Users\\Abubakr\\Documents\\GitHub\\CNN-MNIST\\cnn_mnist.ipynb Cell 6'\u001b[0m in \u001b[0;36mNetwork.forward\u001b[1;34m(self, x)\u001b[0m\n\u001b[0;32m     <a href='vscode-notebook-cell:/c%3A/Users/Abubakr/Documents/GitHub/CNN-MNIST/cnn_mnist.ipynb#ch0000005?line=10'>11</a>\u001b[0m \u001b[39mdef\u001b[39;00m \u001b[39mforward\u001b[39m(\u001b[39mself\u001b[39m, x):\n\u001b[0;32m     <a href='vscode-notebook-cell:/c%3A/Users/Abubakr/Documents/GitHub/CNN-MNIST/cnn_mnist.ipynb#ch0000005?line=11'>12</a>\u001b[0m     \u001b[39m#print(x.shape)\u001b[39;00m\n\u001b[1;32m---> <a href='vscode-notebook-cell:/c%3A/Users/Abubakr/Documents/GitHub/CNN-MNIST/cnn_mnist.ipynb#ch0000005?line=12'>13</a>\u001b[0m     x\u001b[39m=\u001b[39m\u001b[39mself\u001b[39m\u001b[39m.\u001b[39mpool(F\u001b[39m.\u001b[39mrelu(\u001b[39mself\u001b[39;49m\u001b[39m.\u001b[39;49mconv1(x)))\n\u001b[0;32m     <a href='vscode-notebook-cell:/c%3A/Users/Abubakr/Documents/GitHub/CNN-MNIST/cnn_mnist.ipynb#ch0000005?line=13'>14</a>\u001b[0m     x\u001b[39m=\u001b[39m\u001b[39mself\u001b[39m\u001b[39m.\u001b[39mpool(F\u001b[39m.\u001b[39mrelu(\u001b[39mself\u001b[39m\u001b[39m.\u001b[39mconv2(x)))\n\u001b[0;32m     <a href='vscode-notebook-cell:/c%3A/Users/Abubakr/Documents/GitHub/CNN-MNIST/cnn_mnist.ipynb#ch0000005?line=14'>15</a>\u001b[0m     \u001b[39m#print(x.shape)\u001b[39;00m\n",
      "File \u001b[1;32mc:\\Users\\Abubakr\\Anaconda3\\envs\\dl\\lib\\site-packages\\torch\\nn\\modules\\module.py:1110\u001b[0m, in \u001b[0;36mModule._call_impl\u001b[1;34m(self, *input, **kwargs)\u001b[0m\n\u001b[0;32m   <a href='file:///c%3A/Users/Abubakr/Anaconda3/envs/dl/lib/site-packages/torch/nn/modules/module.py?line=1105'>1106</a>\u001b[0m \u001b[39m# If we don't have any hooks, we want to skip the rest of the logic in\u001b[39;00m\n\u001b[0;32m   <a href='file:///c%3A/Users/Abubakr/Anaconda3/envs/dl/lib/site-packages/torch/nn/modules/module.py?line=1106'>1107</a>\u001b[0m \u001b[39m# this function, and just call forward.\u001b[39;00m\n\u001b[0;32m   <a href='file:///c%3A/Users/Abubakr/Anaconda3/envs/dl/lib/site-packages/torch/nn/modules/module.py?line=1107'>1108</a>\u001b[0m \u001b[39mif\u001b[39;00m \u001b[39mnot\u001b[39;00m (\u001b[39mself\u001b[39m\u001b[39m.\u001b[39m_backward_hooks \u001b[39mor\u001b[39;00m \u001b[39mself\u001b[39m\u001b[39m.\u001b[39m_forward_hooks \u001b[39mor\u001b[39;00m \u001b[39mself\u001b[39m\u001b[39m.\u001b[39m_forward_pre_hooks \u001b[39mor\u001b[39;00m _global_backward_hooks\n\u001b[0;32m   <a href='file:///c%3A/Users/Abubakr/Anaconda3/envs/dl/lib/site-packages/torch/nn/modules/module.py?line=1108'>1109</a>\u001b[0m         \u001b[39mor\u001b[39;00m _global_forward_hooks \u001b[39mor\u001b[39;00m _global_forward_pre_hooks):\n\u001b[1;32m-> <a href='file:///c%3A/Users/Abubakr/Anaconda3/envs/dl/lib/site-packages/torch/nn/modules/module.py?line=1109'>1110</a>\u001b[0m     \u001b[39mreturn\u001b[39;00m forward_call(\u001b[39m*\u001b[39m\u001b[39minput\u001b[39m, \u001b[39m*\u001b[39m\u001b[39m*\u001b[39mkwargs)\n\u001b[0;32m   <a href='file:///c%3A/Users/Abubakr/Anaconda3/envs/dl/lib/site-packages/torch/nn/modules/module.py?line=1110'>1111</a>\u001b[0m \u001b[39m# Do not call functions when jit is used\u001b[39;00m\n\u001b[0;32m   <a href='file:///c%3A/Users/Abubakr/Anaconda3/envs/dl/lib/site-packages/torch/nn/modules/module.py?line=1111'>1112</a>\u001b[0m full_backward_hooks, non_full_backward_hooks \u001b[39m=\u001b[39m [], []\n",
      "File \u001b[1;32mc:\\Users\\Abubakr\\Anaconda3\\envs\\dl\\lib\\site-packages\\torch\\nn\\modules\\conv.py:447\u001b[0m, in \u001b[0;36mConv2d.forward\u001b[1;34m(self, input)\u001b[0m\n\u001b[0;32m    <a href='file:///c%3A/Users/Abubakr/Anaconda3/envs/dl/lib/site-packages/torch/nn/modules/conv.py?line=445'>446</a>\u001b[0m \u001b[39mdef\u001b[39;00m \u001b[39mforward\u001b[39m(\u001b[39mself\u001b[39m, \u001b[39minput\u001b[39m: Tensor) \u001b[39m-\u001b[39m\u001b[39m>\u001b[39m Tensor:\n\u001b[1;32m--> <a href='file:///c%3A/Users/Abubakr/Anaconda3/envs/dl/lib/site-packages/torch/nn/modules/conv.py?line=446'>447</a>\u001b[0m     \u001b[39mreturn\u001b[39;00m \u001b[39mself\u001b[39;49m\u001b[39m.\u001b[39;49m_conv_forward(\u001b[39minput\u001b[39;49m, \u001b[39mself\u001b[39;49m\u001b[39m.\u001b[39;49mweight, \u001b[39mself\u001b[39;49m\u001b[39m.\u001b[39;49mbias)\n",
      "File \u001b[1;32mc:\\Users\\Abubakr\\Anaconda3\\envs\\dl\\lib\\site-packages\\torch\\nn\\modules\\conv.py:443\u001b[0m, in \u001b[0;36mConv2d._conv_forward\u001b[1;34m(self, input, weight, bias)\u001b[0m\n\u001b[0;32m    <a href='file:///c%3A/Users/Abubakr/Anaconda3/envs/dl/lib/site-packages/torch/nn/modules/conv.py?line=438'>439</a>\u001b[0m \u001b[39mif\u001b[39;00m \u001b[39mself\u001b[39m\u001b[39m.\u001b[39mpadding_mode \u001b[39m!=\u001b[39m \u001b[39m'\u001b[39m\u001b[39mzeros\u001b[39m\u001b[39m'\u001b[39m:\n\u001b[0;32m    <a href='file:///c%3A/Users/Abubakr/Anaconda3/envs/dl/lib/site-packages/torch/nn/modules/conv.py?line=439'>440</a>\u001b[0m     \u001b[39mreturn\u001b[39;00m F\u001b[39m.\u001b[39mconv2d(F\u001b[39m.\u001b[39mpad(\u001b[39minput\u001b[39m, \u001b[39mself\u001b[39m\u001b[39m.\u001b[39m_reversed_padding_repeated_twice, mode\u001b[39m=\u001b[39m\u001b[39mself\u001b[39m\u001b[39m.\u001b[39mpadding_mode),\n\u001b[0;32m    <a href='file:///c%3A/Users/Abubakr/Anaconda3/envs/dl/lib/site-packages/torch/nn/modules/conv.py?line=440'>441</a>\u001b[0m                     weight, bias, \u001b[39mself\u001b[39m\u001b[39m.\u001b[39mstride,\n\u001b[0;32m    <a href='file:///c%3A/Users/Abubakr/Anaconda3/envs/dl/lib/site-packages/torch/nn/modules/conv.py?line=441'>442</a>\u001b[0m                     _pair(\u001b[39m0\u001b[39m), \u001b[39mself\u001b[39m\u001b[39m.\u001b[39mdilation, \u001b[39mself\u001b[39m\u001b[39m.\u001b[39mgroups)\n\u001b[1;32m--> <a href='file:///c%3A/Users/Abubakr/Anaconda3/envs/dl/lib/site-packages/torch/nn/modules/conv.py?line=442'>443</a>\u001b[0m \u001b[39mreturn\u001b[39;00m F\u001b[39m.\u001b[39;49mconv2d(\u001b[39minput\u001b[39;49m, weight, bias, \u001b[39mself\u001b[39;49m\u001b[39m.\u001b[39;49mstride,\n\u001b[0;32m    <a href='file:///c%3A/Users/Abubakr/Anaconda3/envs/dl/lib/site-packages/torch/nn/modules/conv.py?line=443'>444</a>\u001b[0m                 \u001b[39mself\u001b[39;49m\u001b[39m.\u001b[39;49mpadding, \u001b[39mself\u001b[39;49m\u001b[39m.\u001b[39;49mdilation, \u001b[39mself\u001b[39;49m\u001b[39m.\u001b[39;49mgroups)\n",
      "\u001b[1;31mRuntimeError\u001b[0m: Expected 3D (unbatched) or 4D (batched) input to conv2d, but got input of size: [1, 784]"
     ]
    }
   ],
   "source": [
    "images, labels = next(iter(testloader))\n",
    "images=images.to(device)\n",
    "labels=labels.to(device)\n",
    "#images.resize_(images.shape[0], 1, 784) \n",
    "logits = model.forward(images[0,:])\n",
    "ps = F.softmax(logits, dim=1)\n",
    "view_classify(images[0].view(1, 28, 28), ps)"
   ]
  }
 ],
 "metadata": {
  "interpreter": {
   "hash": "c783155fdf7cc6e25183d446515f6b6ba379df7b28dd698d21634d1b4d5e58fd"
  },
  "kernelspec": {
   "display_name": "Python 3.10.4 ('dl')",
   "language": "python",
   "name": "python3"
  },
  "language_info": {
   "codemirror_mode": {
    "name": "ipython",
    "version": 3
   },
   "file_extension": ".py",
   "mimetype": "text/x-python",
   "name": "python",
   "nbconvert_exporter": "python",
   "pygments_lexer": "ipython3",
   "version": "3.10.4"
  },
  "orig_nbformat": 4
 },
 "nbformat": 4,
 "nbformat_minor": 2
}
